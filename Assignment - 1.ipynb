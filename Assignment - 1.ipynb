{
 "cells": [
  {
   "cell_type": "markdown",
   "id": "dda8eef2-0c2e-4efb-89dc-c2a519ff3a1c",
   "metadata": {},
   "source": [
    "Q1:"
   ]
  },
  {
   "cell_type": "code",
   "execution_count": 1,
   "id": "05b5bce6-0302-47b1-bff0-5f300705f69a",
   "metadata": {},
   "outputs": [],
   "source": [
    "varList = [\"pwskills\", [1,2], 10.2, (\"pen\", \"notebook\")]"
   ]
  },
  {
   "cell_type": "raw",
   "id": "3ec70b7a-259f-4db9-80a8-835812c8c1f7",
   "metadata": {},
   "source": []
  },
  {
   "cell_type": "markdown",
   "id": "84f0408f-565b-45d8-9d1d-1084b9229bc7",
   "metadata": {},
   "source": [
    "Q2:"
   ]
  },
  {
   "cell_type": "markdown",
   "id": "cc99f784-9ba1-4563-bdc8-17b8300b52ac",
   "metadata": {},
   "source": [
    "(i) var1 = ''\n",
    "    Data type: str (sring)\n",
    "\n",
    "(ii) var2 = '[DS,ML,Python]'\n",
    "    Data type: str (string)\n",
    "    \n",
    "(iii) var3 = ['DS','ML','Python']\n",
    "    Data type: list\n",
    "    \n",
    "(iv) var4 = 1.\n",
    "    Data type: float"
   ]
  },
  {
   "cell_type": "raw",
   "id": "86e51b62-e6da-447b-adce-dde4aceefb52",
   "metadata": {},
   "source": []
  },
  {
   "cell_type": "markdown",
   "id": "d2cc373a-a03e-4cc2-aeb1-7a28f5c1c1f2",
   "metadata": {},
   "source": [
    "Q3:"
   ]
  },
  {
   "cell_type": "markdown",
   "id": "cb3ff80a-ebf8-44f1-a93c-b0fa74e1237a",
   "metadata": {},
   "source": [
    "(i) /\n",
    "Ans: Symbol / called division operator in python. This operator used for devide one number with another number. This operator devide left side number by right side number. This operatore returns float value."
   ]
  },
  {
   "cell_type": "code",
   "execution_count": null,
   "id": "43bc9bd6-d730-46f7-90dc-3430c54c4826",
   "metadata": {},
   "outputs": [
    {
     "data": {
      "text/plain": [
       "3.0"
      ]
     },
     "execution_count": 16,
     "metadata": {},
     "output_type": "execute_result"
    }
   ],
   "source": [
    "6/2"
   ]
  },
  {
   "cell_type": "markdown",
   "id": "0ed81eb8-c9cb-426e-a5bd-d9002d0db228",
   "metadata": {},
   "source": [
    "(ii) %\n",
    "Ans: Symbol % called modulus operator in python. This operator used for find reminder of deviding left side number by right side number."
   ]
  },
  {
   "cell_type": "code",
   "execution_count": 26,
   "id": "a62c7584-12f2-4f03-af9d-2ffdff7b513c",
   "metadata": {},
   "outputs": [
    {
     "data": {
      "text/plain": [
       "1"
      ]
     },
     "execution_count": 26,
     "metadata": {},
     "output_type": "execute_result"
    }
   ],
   "source": [
    "10 % 3"
   ]
  },
  {
   "cell_type": "markdown",
   "id": "7ad627d2-3dfb-4e90-b76c-c76e87133342",
   "metadata": {},
   "source": [
    "(iii) //\n",
    "Ans: Symbol // called floor divison operator in python. This operator retuens nearest least whole number when we divide first number with second number."
   ]
  },
  {
   "cell_type": "code",
   "execution_count": 27,
   "id": "ed7c8b17-9f75-46e3-85a1-c6e794e27de7",
   "metadata": {},
   "outputs": [
    {
     "data": {
      "text/plain": [
       "3"
      ]
     },
     "execution_count": 27,
     "metadata": {},
     "output_type": "execute_result"
    }
   ],
   "source": [
    "10//3"
   ]
  },
  {
   "cell_type": "markdown",
   "id": "acdc32eb-ba63-40a8-b687-59405887db29",
   "metadata": {},
   "source": [
    "(iv) **\n",
    "Ans: Symbol ** called exponentiation operator in python. This operator return the power of number. Left side number is a base number and right side number is power."
   ]
  },
  {
   "cell_type": "code",
   "execution_count": 28,
   "id": "c2cb307e-24b8-480a-b256-a8953383b295",
   "metadata": {},
   "outputs": [
    {
     "data": {
      "text/plain": [
       "8"
      ]
     },
     "execution_count": 28,
     "metadata": {},
     "output_type": "execute_result"
    }
   ],
   "source": [
    "2**3"
   ]
  },
  {
   "cell_type": "raw",
   "id": "3db9df8c-0e85-46ed-9bde-20cd92670a7f",
   "metadata": {},
   "source": []
  },
  {
   "cell_type": "markdown",
   "id": "297c2894-461b-49c5-bf69-afafb27e73ea",
   "metadata": {},
   "source": [
    "Q4:"
   ]
  },
  {
   "cell_type": "code",
   "execution_count": 46,
   "id": "5c20ebf1-1fde-4483-9ab9-86de876fa28c",
   "metadata": {},
   "outputs": [
    {
     "name": "stdout",
     "output_type": "stream",
     "text": [
      "length of listData:  10\n",
      "print element and their data type of listData: \n",
      "pwskills\n",
      "<class 'str'>\n",
      "\n",
      "\n",
      "1\n",
      "<class 'int'>\n",
      "\n",
      "\n",
      "15.2\n",
      "<class 'float'>\n",
      "\n",
      "\n",
      "True\n",
      "<class 'bool'>\n",
      "\n",
      "\n",
      "(10+5j)\n",
      "<class 'complex'>\n",
      "\n",
      "\n",
      "[1, 'ab']\n",
      "<class 'list'>\n",
      "\n",
      "\n",
      "('laptop', 'mouse')\n",
      "<class 'tuple'>\n",
      "\n",
      "\n",
      "range(0, 5)\n",
      "<class 'range'>\n",
      "\n",
      "\n",
      "Assignment-1\n",
      "<class 'str'>\n",
      "\n",
      "\n",
      "1023551\n",
      "<class 'int'>\n",
      "\n",
      "\n"
     ]
    }
   ],
   "source": [
    "listData = ['pwskills', 1 , 15.2, True, 10+5j, [1,'ab'], ('laptop', 'mouse'), range(5), 'Assignment-1', 1023551]\n",
    "print(\"length of listData: \", len(listData))\n",
    "print(\"print element and their data type of listData: \")\n",
    "\n",
    "for element in listData:\n",
    "    print(element)\n",
    "    print (type(element))\n",
    "    print(\"\\n\")"
   ]
  },
  {
   "cell_type": "raw",
   "id": "7e86bdee-9419-46ae-8489-74ab8565f320",
   "metadata": {},
   "source": []
  },
  {
   "cell_type": "markdown",
   "id": "0bd80120-6b7f-46a2-a94d-c28dcd1b2763",
   "metadata": {},
   "source": [
    "Q5:"
   ]
  },
  {
   "cell_type": "code",
   "execution_count": 78,
   "id": "86005c6c-1e77-4e8f-a5a1-92449de28648",
   "metadata": {},
   "outputs": [
    {
     "name": "stdin",
     "output_type": "stream",
     "text": [
      "Please enter number A:  70\n",
      "Please enter number B:  14\n"
     ]
    },
    {
     "name": "stdout",
     "output_type": "stream",
     "text": [
      "Divisible by 7 times\n"
     ]
    }
   ],
   "source": [
    "numberA = int(input('Please enter number A: '))\n",
    "numberB = int(input('Please enter number B: '))\n",
    "count = 0\n",
    "num = 1\n",
    "\n",
    "if numberA % numberB == 0 :\n",
    "    while num < numberA:\n",
    "        if numberA % num == 0:\n",
    "            count +=1\n",
    "        num += 1\n",
    "    else:\n",
    "        print(f'Divisible by {count} times')\n",
    "else:\n",
    "    print('Not divisible')"
   ]
  },
  {
   "cell_type": "raw",
   "id": "a03f36c7-d978-4858-94c7-976faa1b3f55",
   "metadata": {},
   "source": []
  },
  {
   "cell_type": "markdown",
   "id": "ff6f3255-0788-4192-9e17-52909c747387",
   "metadata": {},
   "source": [
    "Q6:"
   ]
  },
  {
   "cell_type": "code",
   "execution_count": 57,
   "id": "84fcecd7-d3e1-4880-9deb-f3014ecf4a53",
   "metadata": {},
   "outputs": [
    {
     "name": "stdout",
     "output_type": "stream",
     "text": [
      "1 is not divisilble by 3\n",
      "2 is not divisilble by 3\n",
      "3 is dividble by 3\n",
      "4 is not divisilble by 3\n",
      "5 is not divisilble by 3\n",
      "6 is dividble by 3\n",
      "7 is not divisilble by 3\n",
      "8 is not divisilble by 3\n",
      "9 is dividble by 3\n",
      "10 is not divisilble by 3\n",
      "11 is not divisilble by 3\n",
      "12 is dividble by 3\n",
      "13 is not divisilble by 3\n",
      "14 is not divisilble by 3\n",
      "15 is dividble by 3\n",
      "16 is not divisilble by 3\n",
      "17 is not divisilble by 3\n",
      "18 is dividble by 3\n",
      "19 is not divisilble by 3\n",
      "20 is not divisilble by 3\n",
      "21 is dividble by 3\n",
      "22 is not divisilble by 3\n",
      "23 is not divisilble by 3\n",
      "24 is dividble by 3\n",
      "25 is not divisilble by 3\n"
     ]
    }
   ],
   "source": [
    "numberList = list(range(1,26))\n",
    "\n",
    "for num in numberList :\n",
    "    if num%3 == 0 :\n",
    "        print(f'{num} is dividble by 3')\n",
    "    else :\n",
    "        print(f'{num} is not divisilble by 3')"
   ]
  },
  {
   "cell_type": "raw",
   "id": "d9653856-5295-4e47-9b23-a835fc394f92",
   "metadata": {},
   "source": []
  },
  {
   "cell_type": "markdown",
   "id": "4ce8f31a-efad-4b5e-836f-14616b34607c",
   "metadata": {},
   "source": [
    "Q7:"
   ]
  },
  {
   "cell_type": "markdown",
   "id": "607b5cdd-03ea-4564-a207-81ad9eb2e4f0",
   "metadata": {},
   "source": [
    "(i) Mutable data type:\n",
    "    Data type for which we are able to change something at a particular index is called Mutable data type.\n",
    "    example:\n",
    "        In a list we can print element of particular index. And also able to change the value of particular index. So, list is a mutable data type in python."
   ]
  },
  {
   "cell_type": "code",
   "execution_count": 66,
   "id": "3239d339-9b6b-4784-85ba-d04a6f903897",
   "metadata": {},
   "outputs": [],
   "source": [
    "varList = [1,2,3]"
   ]
  },
  {
   "cell_type": "code",
   "execution_count": 67,
   "id": "508879ff-ea48-4177-97fa-f59acd61f0b8",
   "metadata": {},
   "outputs": [
    {
     "data": {
      "text/plain": [
       "1"
      ]
     },
     "execution_count": 67,
     "metadata": {},
     "output_type": "execute_result"
    }
   ],
   "source": [
    "varList[0]"
   ]
  },
  {
   "cell_type": "code",
   "execution_count": 70,
   "id": "da2deac4-265c-465e-8d94-dea2694ffc7a",
   "metadata": {},
   "outputs": [],
   "source": [
    "varList[0] = 5"
   ]
  },
  {
   "cell_type": "code",
   "execution_count": 71,
   "id": "4e65676d-c57e-4e14-9c14-4a42f605d4ea",
   "metadata": {},
   "outputs": [
    {
     "data": {
      "text/plain": [
       "[5, 2, 3]"
      ]
     },
     "execution_count": 71,
     "metadata": {},
     "output_type": "execute_result"
    }
   ],
   "source": [
    "varList"
   ]
  },
  {
   "cell_type": "raw",
   "id": "4d80e3a4-5cca-4644-855c-93dccd14420b",
   "metadata": {},
   "source": []
  },
  {
   "cell_type": "markdown",
   "id": "9cd450ea-e672-4f5b-93a4-33d75adc98d6",
   "metadata": {},
   "source": [
    "(ii) Immutable data type:\n",
    "    Data type for which we are not able to change something at a particular index is called immutable data type.\n",
    "    example:\n",
    "        In sring we can print particular character from particualr index. But we are not able to change any character in string from particular index like list. If we do then python will display error. You can see below cell no. 64 gives error while we assigning new character to string's particular index.\n",
    "        So, string is a immutable data type."
   ]
  },
  {
   "cell_type": "code",
   "execution_count": 62,
   "id": "fe12620e-4e73-4a62-958b-d6f9a6f74566",
   "metadata": {},
   "outputs": [],
   "source": [
    "varString = \"abc\""
   ]
  },
  {
   "cell_type": "code",
   "execution_count": 61,
   "id": "648f6798-a7f9-4bf7-a000-13ed565bb439",
   "metadata": {},
   "outputs": [
    {
     "data": {
      "text/plain": [
       "'a'"
      ]
     },
     "execution_count": 61,
     "metadata": {},
     "output_type": "execute_result"
    }
   ],
   "source": [
    "varString[0]"
   ]
  },
  {
   "cell_type": "code",
   "execution_count": 63,
   "id": "3eaa4b70-3348-4b73-9c83-d72e889afe83",
   "metadata": {},
   "outputs": [
    {
     "data": {
      "text/plain": [
       "'b'"
      ]
     },
     "execution_count": 63,
     "metadata": {},
     "output_type": "execute_result"
    }
   ],
   "source": [
    "varString[1]"
   ]
  },
  {
   "cell_type": "code",
   "execution_count": 64,
   "id": "e02e979e-0dd7-4696-810d-d59f9e763e18",
   "metadata": {},
   "outputs": [
    {
     "ename": "TypeError",
     "evalue": "'str' object does not support item assignment",
     "output_type": "error",
     "traceback": [
      "\u001b[0;31m---------------------------------------------------------------------------\u001b[0m",
      "\u001b[0;31mTypeError\u001b[0m                                 Traceback (most recent call last)",
      "Cell \u001b[0;32mIn[64], line 1\u001b[0m\n\u001b[0;32m----> 1\u001b[0m \u001b[43mvarString\u001b[49m\u001b[43m[\u001b[49m\u001b[38;5;241;43m1\u001b[39;49m\u001b[43m]\u001b[49m\u001b[38;5;241m=\u001b[39m\u001b[38;5;124m'\u001b[39m\u001b[38;5;124mJ\u001b[39m\u001b[38;5;124m'\u001b[39m\n",
      "\u001b[0;31mTypeError\u001b[0m: 'str' object does not support item assignment"
     ]
    }
   ],
   "source": [
    "varString[1]='J'"
   ]
  }
 ],
 "metadata": {
  "kernelspec": {
   "display_name": "Python 3 (ipykernel)",
   "language": "python",
   "name": "python3"
  },
  "language_info": {
   "codemirror_mode": {
    "name": "ipython",
    "version": 3
   },
   "file_extension": ".py",
   "mimetype": "text/x-python",
   "name": "python",
   "nbconvert_exporter": "python",
   "pygments_lexer": "ipython3",
   "version": "3.10.8"
  }
 },
 "nbformat": 4,
 "nbformat_minor": 5
}
